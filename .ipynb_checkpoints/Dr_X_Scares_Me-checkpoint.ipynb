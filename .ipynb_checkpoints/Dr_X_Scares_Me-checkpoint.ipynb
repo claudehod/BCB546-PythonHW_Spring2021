{
 "cells": [
  {
   "cell_type": "markdown",
   "id": "threatened-manhattan",
   "metadata": {},
   "source": [
    "# Bears Translated\n",
    "\n",
    "### I need to include several functions to make Dr. X happy:\n",
    "\n",
    "* Dr. X's function (fetches sequences from fasta files) with completed documentation\n",
    "* A function that translates a string of nucleotides to amino acids based on his pseudo-code suggestion\n",
    "* An alternative translation function\n",
    "* A function that calculates the molecular weight of each amino acid sequence\n",
    "* A function that computes the GC-content of each DNA sequence\n",
    "\n",
    "**If I don't complete this on time, he will feed me to the bears.**"
   ]
  },
  {
   "cell_type": "code",
   "execution_count": 1,
   "id": "acute-albert",
   "metadata": {},
   "outputs": [],
   "source": [
    "# Import those important packages\n",
    "from Bio import SeqIO\n",
    "from Bio.Data import CodonTable\n",
    "from Bio.SeqUtils.ProtParam import ProteinAnalysis\n",
    "import pandas as pd\n",
    "import numpy as np"
   ]
  },
  {
   "cell_type": "markdown",
   "id": "forward-standing",
   "metadata": {},
   "source": [
    "### Function 1: Finish documentation\n",
    "\n",
    "**Gotta tell Dr. X what Dr. X did**"
   ]
  },
  {
   "cell_type": "code",
   "execution_count": 2,
   "id": "auburn-aluminum",
   "metadata": {},
   "outputs": [],
   "source": [
    "# Original function written by the doc\n",
    "\n",
    "def get_sequences_from_file(fasta_fn): \n",
    "    #establishes function, with fasta_fn being the fasta file input\n",
    "    sequence_data_dict = {} \n",
    "    # creates empty dictionary for fasta file\n",
    "    for record in SeqIO.parse(fasta_fn, \"fasta\"): \n",
    "        #begins loop, with fasta_fn being the file and \"fasta\" being the file type\n",
    "        description = record.description.split() # splits the name of the organism the sequence belongs to\n",
    "        species_name = description[1] + \" \" + description[2] # creates a variable that gives the name of the organism\n",
    "        sequence_data_dict[species_name] = record.seq # Adds organism and sequence to the dictionary\n",
    "    return(sequence_data_dict) # Returns output"
   ]
  },
  {
   "cell_type": "markdown",
   "id": "heavy-feeling",
   "metadata": {},
   "source": [
    "### Function 2: Translation Function\n",
    "\n",
    "**Going to take some nucleotides and de-code them to create a peptide string**"
   ]
  },
  {
   "cell_type": "code",
   "execution_count": 3,
   "id": "married-chair",
   "metadata": {},
   "outputs": [],
   "source": [
    "def translate_function(nucleotides):\n",
    "    mito_table = CodonTable.unambiguous_dna_by_name[\"Vertebrate Mitochondrial\"] \n",
    "    polypeptide = \"\" \n",
    "    for i in range (0, len(nucleotides))[::3]:\n",
    "        codon = nucleotides[i:i+3] \n",
    "        if codon in mito_table.stop_codons: \n",
    "            break \n",
    "        amino_acid = mito_table.forward_table[codon] \n",
    "        polypeptide = polypeptide + amino_acid \n",
    "    return polypeptide"
   ]
  },
  {
   "cell_type": "code",
   "execution_count": 4,
   "id": "domestic-chamber",
   "metadata": {},
   "outputs": [],
   "source": [
    "example_nucleotide_string = (\"AGTGTAGTCACA\")"
   ]
  },
  {
   "cell_type": "code",
   "execution_count": 5,
   "id": "julian-bicycle",
   "metadata": {},
   "outputs": [
    {
     "data": {
      "text/plain": [
       "'SVVT'"
      ]
     },
     "execution_count": 5,
     "metadata": {},
     "output_type": "execute_result"
    }
   ],
   "source": [
    "translate_function(example_nucleotide_string)"
   ]
  },
  {
   "cell_type": "markdown",
   "id": "thousand-enemy",
   "metadata": {},
   "source": [
    "### Function 3: A Better Way to Translate\n",
    "\n",
    "**That function up above ain't working, so we'll try something else**"
   ]
  },
  {
   "cell_type": "code",
   "execution_count": 6,
   "id": "welcome-subsection",
   "metadata": {},
   "outputs": [
    {
     "name": "stdout",
     "output_type": "stream",
     "text": [
      "Table 1 Standard, SGC0\n",
      "\n",
      "  |  T      |  C      |  A      |  G      |\n",
      "--+---------+---------+---------+---------+--\n",
      "T | TTT F   | TCT S   | TAT Y   | TGT C   | T\n",
      "T | TTC F   | TCC S   | TAC Y   | TGC C   | C\n",
      "T | TTA L   | TCA S   | TAA Stop| TGA Stop| A\n",
      "T | TTG L(s)| TCG S   | TAG Stop| TGG W   | G\n",
      "--+---------+---------+---------+---------+--\n",
      "C | CTT L   | CCT P   | CAT H   | CGT R   | T\n",
      "C | CTC L   | CCC P   | CAC H   | CGC R   | C\n",
      "C | CTA L   | CCA P   | CAA Q   | CGA R   | A\n",
      "C | CTG L(s)| CCG P   | CAG Q   | CGG R   | G\n",
      "--+---------+---------+---------+---------+--\n",
      "A | ATT I   | ACT T   | AAT N   | AGT S   | T\n",
      "A | ATC I   | ACC T   | AAC N   | AGC S   | C\n",
      "A | ATA I   | ACA T   | AAA K   | AGA R   | A\n",
      "A | ATG M(s)| ACG T   | AAG K   | AGG R   | G\n",
      "--+---------+---------+---------+---------+--\n",
      "G | GTT V   | GCT A   | GAT D   | GGT G   | T\n",
      "G | GTC V   | GCC A   | GAC D   | GGC G   | C\n",
      "G | GTA V   | GCA A   | GAA E   | GGA G   | A\n",
      "G | GTG V   | GCG A   | GAG E   | GGG G   | G\n",
      "--+---------+---------+---------+---------+--\n"
     ]
    }
   ],
   "source": [
    "# Importing the Codon Table\n",
    "import Bio.Data.CodonTable\n",
    "from Bio.Seq import Seq\n",
    "print(Bio.Data.CodonTable.standard_dna_table)"
   ]
  },
  {
   "cell_type": "markdown",
   "id": "equivalent-vessel",
   "metadata": {},
   "source": [
    "**Actually doing the function:**\n",
    "Turns out I don't need the table above, but it looks cool, so I'm keeping it."
   ]
  },
  {
   "cell_type": "code",
   "execution_count": 7,
   "id": "concerned-administrator",
   "metadata": {},
   "outputs": [],
   "source": [
    "# Overview of what's going on:\n",
    "# I established the input (DNA) as a sequence using Seq\n",
    "# I then used biopython's .translate() to translate the sequence into a polypeptide chain, which is then the output\n",
    "\n",
    "def translate(DNA):\n",
    "    DNA_Seq = Seq(DNA)\n",
    "    translate_product = DNA_Seq.translate()\n",
    "    return translate_product"
   ]
  },
  {
   "cell_type": "code",
   "execution_count": 8,
   "id": "monthly-princeton",
   "metadata": {},
   "outputs": [
    {
     "data": {
      "text/plain": [
       "Seq('MAIRYT')"
      ]
     },
     "execution_count": 8,
     "metadata": {},
     "output_type": "execute_result"
    }
   ],
   "source": [
    "# Testing the function:\n",
    "translate(\"ATGGCCATTCGCTATACG\")"
   ]
  },
  {
   "cell_type": "markdown",
   "id": "revolutionary-impression",
   "metadata": {},
   "source": [
    "### Function 4: Molecular Weight of Amino Acid Sequence\n",
    "\n",
    "**A function that takes an amino acid input and gives a molecular weight output**"
   ]
  },
  {
   "cell_type": "code",
   "execution_count": 9,
   "id": "portable-surname",
   "metadata": {},
   "outputs": [],
   "source": [
    "from Bio.SeqUtils.ProtParam import ProteinAnalysis"
   ]
  },
  {
   "cell_type": "code",
   "execution_count": 10,
   "id": "subtle-monster",
   "metadata": {},
   "outputs": [],
   "source": [
    "# Overview of function:\n",
    "# Input of polypeptide, which is a string of amino acids in IUPAC format\n",
    "# ProteinAnalysis makes sure the string is a protein string and nothing else\n",
    "# .molecular_weight() does the molecular weight stuff for me\n",
    "\n",
    "def protein_weight(polypeptide):\n",
    "    protein_seq = ProteinAnalysis(polypeptide)\n",
    "    weight = protein_seq.molecular_weight()\n",
    "    return weight"
   ]
  },
  {
   "cell_type": "code",
   "execution_count": 11,
   "id": "turned-edward",
   "metadata": {},
   "outputs": [
    {
     "data": {
      "text/plain": [
       "753.9096"
      ]
     },
     "execution_count": 11,
     "metadata": {},
     "output_type": "execute_result"
    }
   ],
   "source": [
    "protein_weight(\"MAIRYT\")"
   ]
  },
  {
   "cell_type": "markdown",
   "id": "double-dividend",
   "metadata": {},
   "source": [
    "### Function 5: GC Content Analysis\n",
    "**Takning a DNA string input and returning the GC content**"
   ]
  },
  {
   "cell_type": "code",
   "execution_count": 12,
   "id": "thrown-green",
   "metadata": {},
   "outputs": [],
   "source": [
    "# Import GC from Biopython\n",
    "from Bio.SeqUtils import GC"
   ]
  },
  {
   "cell_type": "code",
   "execution_count": 13,
   "id": "occupied-antigua",
   "metadata": {},
   "outputs": [],
   "source": [
    "# Overview of function:\n",
    "# Function takes dna as an input (as a string)\n",
    "# Establish dna as a DNA sequence\n",
    "# Use GC function in Biopython to return percentage of string as GC and returns it\n",
    "\n",
    "def GC_Content(dna):\n",
    "    DNA_Seq = Seq(dna)\n",
    "    GC_Seq = GC(DNA_Seq)\n",
    "    return GC_Seq"
   ]
  },
  {
   "cell_type": "code",
   "execution_count": 14,
   "id": "sacred-cookie",
   "metadata": {},
   "outputs": [
    {
     "data": {
      "text/plain": [
       "50.0"
      ]
     },
     "execution_count": 14,
     "metadata": {},
     "output_type": "execute_result"
    }
   ],
   "source": [
    "GC_Content(\"ATGGCCATTCGCTATACG\")"
   ]
  },
  {
   "cell_type": "markdown",
   "id": "handed-compensation",
   "metadata": {},
   "source": [
    "# Analysis"
   ]
  },
  {
   "cell_type": "code",
   "execution_count": 15,
   "id": "corporate-spring",
   "metadata": {},
   "outputs": [],
   "source": [
    "# Setting up\n",
    "\n",
    "cytb_seqs = get_sequences_from_file(\"bears_cytb.fasta\") \n",
    "\n",
    "bears_df = pd.read_csv(\"bears_mass.csv\") # Includes only data for body mass \n",
    "species_list = list(bears_df.species)"
   ]
  },
  {
   "cell_type": "markdown",
   "id": "generous-mailman",
   "metadata": {},
   "source": [
    "### Request 6: Two New Columns"
   ]
  },
  {
   "cell_type": "code",
   "execution_count": 16,
   "id": "fluid-bennett",
   "metadata": {},
   "outputs": [
    {
     "data": {
      "text/html": [
       "<div>\n",
       "<style scoped>\n",
       "    .dataframe tbody tr th:only-of-type {\n",
       "        vertical-align: middle;\n",
       "    }\n",
       "\n",
       "    .dataframe tbody tr th {\n",
       "        vertical-align: top;\n",
       "    }\n",
       "\n",
       "    .dataframe thead th {\n",
       "        text-align: right;\n",
       "    }\n",
       "</style>\n",
       "<table border=\"1\" class=\"dataframe\">\n",
       "  <thead>\n",
       "    <tr style=\"text-align: right;\">\n",
       "      <th></th>\n",
       "      <th>species</th>\n",
       "      <th>mass</th>\n",
       "    </tr>\n",
       "  </thead>\n",
       "  <tbody>\n",
       "    <tr>\n",
       "      <th>0</th>\n",
       "      <td>Ursus spelaeus</td>\n",
       "      <td>550.800</td>\n",
       "    </tr>\n",
       "    <tr>\n",
       "      <th>1</th>\n",
       "      <td>Ursus arctos</td>\n",
       "      <td>203.500</td>\n",
       "    </tr>\n",
       "    <tr>\n",
       "      <th>2</th>\n",
       "      <td>Ursus thibetanus</td>\n",
       "      <td>99.714</td>\n",
       "    </tr>\n",
       "    <tr>\n",
       "      <th>3</th>\n",
       "      <td>Melursus ursinus</td>\n",
       "      <td>100.030</td>\n",
       "    </tr>\n",
       "    <tr>\n",
       "      <th>4</th>\n",
       "      <td>Ursus americanus</td>\n",
       "      <td>110.560</td>\n",
       "    </tr>\n",
       "    <tr>\n",
       "      <th>5</th>\n",
       "      <td>Helarctos malayanus</td>\n",
       "      <td>47.020</td>\n",
       "    </tr>\n",
       "    <tr>\n",
       "      <th>6</th>\n",
       "      <td>Ailuropoda melanoleuca</td>\n",
       "      <td>118.200</td>\n",
       "    </tr>\n",
       "    <tr>\n",
       "      <th>7</th>\n",
       "      <td>Tremarctos ornatus</td>\n",
       "      <td>140.700</td>\n",
       "    </tr>\n",
       "    <tr>\n",
       "      <th>8</th>\n",
       "      <td>Ursus maritimus</td>\n",
       "      <td>425.100</td>\n",
       "    </tr>\n",
       "  </tbody>\n",
       "</table>\n",
       "</div>"
      ],
      "text/plain": [
       "                  species     mass\n",
       "0          Ursus spelaeus  550.800\n",
       "1            Ursus arctos  203.500\n",
       "2        Ursus thibetanus   99.714\n",
       "3        Melursus ursinus  100.030\n",
       "4        Ursus americanus  110.560\n",
       "5     Helarctos malayanus   47.020\n",
       "6  Ailuropoda melanoleuca  118.200\n",
       "7      Tremarctos ornatus  140.700\n",
       "8         Ursus maritimus  425.100"
      ]
     },
     "execution_count": 16,
     "metadata": {},
     "output_type": "execute_result"
    }
   ],
   "source": [
    "# Lets look at the data frame\n",
    "\n",
    "bears_df"
   ]
  },
  {
   "cell_type": "code",
   "execution_count": 17,
   "id": "wrong-northeast",
   "metadata": {},
   "outputs": [],
   "source": [
    "# Adding new columns, make them empty\n",
    "bears_df[\"molecular_weight\"] = np.nan\n",
    "bears_df[\"GC_content\"] = np.nan"
   ]
  },
  {
   "cell_type": "code",
   "execution_count": 18,
   "id": "cardiovascular-killing",
   "metadata": {},
   "outputs": [
    {
     "data": {
      "text/html": [
       "<div>\n",
       "<style scoped>\n",
       "    .dataframe tbody tr th:only-of-type {\n",
       "        vertical-align: middle;\n",
       "    }\n",
       "\n",
       "    .dataframe tbody tr th {\n",
       "        vertical-align: top;\n",
       "    }\n",
       "\n",
       "    .dataframe thead th {\n",
       "        text-align: right;\n",
       "    }\n",
       "</style>\n",
       "<table border=\"1\" class=\"dataframe\">\n",
       "  <thead>\n",
       "    <tr style=\"text-align: right;\">\n",
       "      <th></th>\n",
       "      <th>species</th>\n",
       "      <th>mass</th>\n",
       "      <th>molecular_weight</th>\n",
       "      <th>GC_content</th>\n",
       "    </tr>\n",
       "  </thead>\n",
       "  <tbody>\n",
       "    <tr>\n",
       "      <th>0</th>\n",
       "      <td>Ursus spelaeus</td>\n",
       "      <td>550.800</td>\n",
       "      <td>NaN</td>\n",
       "      <td>NaN</td>\n",
       "    </tr>\n",
       "    <tr>\n",
       "      <th>1</th>\n",
       "      <td>Ursus arctos</td>\n",
       "      <td>203.500</td>\n",
       "      <td>NaN</td>\n",
       "      <td>NaN</td>\n",
       "    </tr>\n",
       "    <tr>\n",
       "      <th>2</th>\n",
       "      <td>Ursus thibetanus</td>\n",
       "      <td>99.714</td>\n",
       "      <td>NaN</td>\n",
       "      <td>NaN</td>\n",
       "    </tr>\n",
       "    <tr>\n",
       "      <th>3</th>\n",
       "      <td>Melursus ursinus</td>\n",
       "      <td>100.030</td>\n",
       "      <td>NaN</td>\n",
       "      <td>NaN</td>\n",
       "    </tr>\n",
       "    <tr>\n",
       "      <th>4</th>\n",
       "      <td>Ursus americanus</td>\n",
       "      <td>110.560</td>\n",
       "      <td>NaN</td>\n",
       "      <td>NaN</td>\n",
       "    </tr>\n",
       "    <tr>\n",
       "      <th>5</th>\n",
       "      <td>Helarctos malayanus</td>\n",
       "      <td>47.020</td>\n",
       "      <td>NaN</td>\n",
       "      <td>NaN</td>\n",
       "    </tr>\n",
       "    <tr>\n",
       "      <th>6</th>\n",
       "      <td>Ailuropoda melanoleuca</td>\n",
       "      <td>118.200</td>\n",
       "      <td>NaN</td>\n",
       "      <td>NaN</td>\n",
       "    </tr>\n",
       "    <tr>\n",
       "      <th>7</th>\n",
       "      <td>Tremarctos ornatus</td>\n",
       "      <td>140.700</td>\n",
       "      <td>NaN</td>\n",
       "      <td>NaN</td>\n",
       "    </tr>\n",
       "    <tr>\n",
       "      <th>8</th>\n",
       "      <td>Ursus maritimus</td>\n",
       "      <td>425.100</td>\n",
       "      <td>NaN</td>\n",
       "      <td>NaN</td>\n",
       "    </tr>\n",
       "  </tbody>\n",
       "</table>\n",
       "</div>"
      ],
      "text/plain": [
       "                  species     mass  molecular_weight  GC_content\n",
       "0          Ursus spelaeus  550.800               NaN         NaN\n",
       "1            Ursus arctos  203.500               NaN         NaN\n",
       "2        Ursus thibetanus   99.714               NaN         NaN\n",
       "3        Melursus ursinus  100.030               NaN         NaN\n",
       "4        Ursus americanus  110.560               NaN         NaN\n",
       "5     Helarctos malayanus   47.020               NaN         NaN\n",
       "6  Ailuropoda melanoleuca  118.200               NaN         NaN\n",
       "7      Tremarctos ornatus  140.700               NaN         NaN\n",
       "8         Ursus maritimus  425.100               NaN         NaN"
      ]
     },
     "execution_count": 18,
     "metadata": {},
     "output_type": "execute_result"
    }
   ],
   "source": [
    "bears_df"
   ]
  },
  {
   "cell_type": "markdown",
   "id": "local-modem",
   "metadata": {},
   "source": [
    "### Request 7: Translation For-Loop"
   ]
  },
  {
   "cell_type": "markdown",
   "id": "acoustic-occasions",
   "metadata": {
    "scrolled": false
   },
   "source": [
    "Walkthrough of what I did:\n",
    "- Starting out with whatever teh for key thing is...\n",
    "- Creating the values that we will fill the empty columns with (next three lines)\n",
    "- Adding those values to the empty columns (next two lines)\n",
    "- Printing the data frame to make sure it worked (it didn't for a long time...)"
   ]
  },
  {
   "cell_type": "code",
   "execution_count": 19,
   "id": "missing-induction",
   "metadata": {},
   "outputs": [
    {
     "data": {
      "text/html": [
       "<div>\n",
       "<style scoped>\n",
       "    .dataframe tbody tr th:only-of-type {\n",
       "        vertical-align: middle;\n",
       "    }\n",
       "\n",
       "    .dataframe tbody tr th {\n",
       "        vertical-align: top;\n",
       "    }\n",
       "\n",
       "    .dataframe thead th {\n",
       "        text-align: right;\n",
       "    }\n",
       "</style>\n",
       "<table border=\"1\" class=\"dataframe\">\n",
       "  <thead>\n",
       "    <tr style=\"text-align: right;\">\n",
       "      <th></th>\n",
       "      <th>species</th>\n",
       "      <th>mass</th>\n",
       "      <th>molecular_weight</th>\n",
       "      <th>GC_content</th>\n",
       "    </tr>\n",
       "  </thead>\n",
       "  <tbody>\n",
       "    <tr>\n",
       "      <th>0</th>\n",
       "      <td>Ursus spelaeus</td>\n",
       "      <td>550.800</td>\n",
       "      <td>98920.6083</td>\n",
       "      <td>43.771930</td>\n",
       "    </tr>\n",
       "    <tr>\n",
       "      <th>1</th>\n",
       "      <td>Ursus arctos</td>\n",
       "      <td>203.500</td>\n",
       "      <td>98902.4375</td>\n",
       "      <td>43.771930</td>\n",
       "    </tr>\n",
       "    <tr>\n",
       "      <th>2</th>\n",
       "      <td>Ursus thibetanus</td>\n",
       "      <td>99.714</td>\n",
       "      <td>98850.9681</td>\n",
       "      <td>45.614035</td>\n",
       "    </tr>\n",
       "    <tr>\n",
       "      <th>3</th>\n",
       "      <td>Melursus ursinus</td>\n",
       "      <td>100.030</td>\n",
       "      <td>98780.7211</td>\n",
       "      <td>45.175439</td>\n",
       "    </tr>\n",
       "    <tr>\n",
       "      <th>4</th>\n",
       "      <td>Ursus americanus</td>\n",
       "      <td>110.560</td>\n",
       "      <td>98906.5155</td>\n",
       "      <td>43.947368</td>\n",
       "    </tr>\n",
       "    <tr>\n",
       "      <th>5</th>\n",
       "      <td>Helarctos malayanus</td>\n",
       "      <td>47.020</td>\n",
       "      <td>98868.5799</td>\n",
       "      <td>44.298246</td>\n",
       "    </tr>\n",
       "    <tr>\n",
       "      <th>6</th>\n",
       "      <td>Ailuropoda melanoleuca</td>\n",
       "      <td>118.200</td>\n",
       "      <td>98710.9023</td>\n",
       "      <td>40.789474</td>\n",
       "    </tr>\n",
       "    <tr>\n",
       "      <th>7</th>\n",
       "      <td>Tremarctos ornatus</td>\n",
       "      <td>140.700</td>\n",
       "      <td>98649.9109</td>\n",
       "      <td>44.385965</td>\n",
       "    </tr>\n",
       "    <tr>\n",
       "      <th>8</th>\n",
       "      <td>Ursus maritimus</td>\n",
       "      <td>425.100</td>\n",
       "      <td>98804.3175</td>\n",
       "      <td>44.298246</td>\n",
       "    </tr>\n",
       "  </tbody>\n",
       "</table>\n",
       "</div>"
      ],
      "text/plain": [
       "                  species     mass  molecular_weight  GC_content\n",
       "0          Ursus spelaeus  550.800        98920.6083   43.771930\n",
       "1            Ursus arctos  203.500        98902.4375   43.771930\n",
       "2        Ursus thibetanus   99.714        98850.9681   45.614035\n",
       "3        Melursus ursinus  100.030        98780.7211   45.175439\n",
       "4        Ursus americanus  110.560        98906.5155   43.947368\n",
       "5     Helarctos malayanus   47.020        98868.5799   44.298246\n",
       "6  Ailuropoda melanoleuca  118.200        98710.9023   40.789474\n",
       "7      Tremarctos ornatus  140.700        98649.9109   44.385965\n",
       "8         Ursus maritimus  425.100        98804.3175   44.298246"
      ]
     },
     "execution_count": 19,
     "metadata": {},
     "output_type": "execute_result"
    }
   ],
   "source": [
    "for key, value in cytb_seqs.items():\n",
    "    amino_acid_seq = translate(str(value))\n",
    "    molecular_weight_value = protein_weight(str(value))\n",
    "    GC_value = GC_Content(str(value))\n",
    "    bears_df.loc[bears_df.species == key, \"molecular_weight\"] = molecular_weight_value\n",
    "    bears_df.loc[bears_df.species == key, \"GC_content\"] = GC_value\n",
    "bears_df"
   ]
  },
  {
   "cell_type": "markdown",
   "id": "favorite-chart",
   "metadata": {},
   "source": [
    "## Plotting!!!\n",
    "\n",
    "### I love plotting!"
   ]
  },
  {
   "cell_type": "markdown",
   "id": "hybrid-layout",
   "metadata": {},
   "source": [
    "### Request 8: Species Mass Barplot"
   ]
  },
  {
   "cell_type": "code",
   "execution_count": 20,
   "id": "operating-alignment",
   "metadata": {},
   "outputs": [],
   "source": [
    "# matplotlib is the spinny wheel of death, but for python\n",
    "%matplotlib inline\n",
    "import seaborn as sns\n",
    "import matplotlib.pyplot as plt"
   ]
  },
  {
   "cell_type": "markdown",
   "id": "extra-stock",
   "metadata": {},
   "source": [
    "Walkthrough:\n",
    "- Create a barplot using sns.barplot\n",
    "- Species are the x-value, mass is the y-value, and I used the palette \"Spectral\"\n",
    "- Used plt.xticks from .pyplot to un-smosh the bears"
   ]
  },
  {
   "cell_type": "code",
   "execution_count": 21,
   "id": "legitimate-sperm",
   "metadata": {},
   "outputs": [
    {
     "data": {
      "text/plain": [
       "(array([0, 1, 2, 3, 4, 5, 6, 7, 8]),\n",
       " [Text(0, 0, 'Ursus spelaeus'),\n",
       "  Text(1, 0, 'Ursus arctos'),\n",
       "  Text(2, 0, 'Ursus thibetanus'),\n",
       "  Text(3, 0, 'Melursus ursinus'),\n",
       "  Text(4, 0, 'Ursus americanus'),\n",
       "  Text(5, 0, 'Helarctos malayanus'),\n",
       "  Text(6, 0, 'Ailuropoda melanoleuca'),\n",
       "  Text(7, 0, 'Tremarctos ornatus'),\n",
       "  Text(8, 0, 'Ursus maritimus')])"
      ]
     },
     "execution_count": 21,
     "metadata": {},
     "output_type": "execute_result"
    },
    {
     "data": {
      "image/png": "[encoded data removed]",
      "text/plain": [
       "<Figure size 432x288 with 1 Axes>"
      ]
     },
     "metadata": {
      "needs_background": "light"
     },
     "output_type": "display_data"
    }
   ],
   "source": [
    "sns.barplot(data = bears_df, x = \"species\", y = \"mass\", palette = \"Spectral\")\n",
    "plt.xticks(rotation=90)"
   ]
  },
  {
   "cell_type": "markdown",
   "id": "temporal-intermediate",
   "metadata": {},
   "source": [
    "**Figure Questions**\n",
    "- Based on this graph, the species with the highest mass is *Ursus spelaeus* at over 550 kg.\n",
    "- This is a cave bear. How you be guessing the accurate mass of a dead bear? You can estimate how much it would weigh, but you can't say for certain??"
   ]
  },
  {
   "cell_type": "markdown",
   "id": "attached-paintball",
   "metadata": {},
   "source": [
    "### Request 9: GC_Content by Molecular Weight"
   ]
  },
  {
   "cell_type": "markdown",
   "id": "organizational-spanking",
   "metadata": {},
   "source": [
    "Walkthrough:\n",
    "- Created scatterplot using sns.scatterplot\n",
    "- GC_content on the x and molecular_weight on the y\n",
    "- I like colors, so the hue changes by mass with the palette being \"crest\""
   ]
  },
  {
   "cell_type": "code",
   "execution_count": 22,
   "id": "floppy-fusion",
   "metadata": {},
   "outputs": [
    {
     "data": {
      "text/plain": [
       "<AxesSubplot:xlabel='GC_content', ylabel='molecular_weight'>"
      ]
     },
     "execution_count": 22,
     "metadata": {},
     "output_type": "execute_result"
    },
    {
     "data": {
      "image/png": "[encoded data removed]",
      "text/plain": [
       "<Figure size 432x288 with 1 Axes>"
      ]
     },
     "metadata": {
      "needs_background": "light"
     },
     "output_type": "display_data"
    }
   ],
   "source": [
    "sns.scatterplot(data = bears_df, x = \"GC_content\", y = \"molecular_weight\", hue = \"mass\",\n",
    "               palette = \"crest\")"
   ]
  },
  {
   "cell_type": "markdown",
   "id": "dramatic-favorite",
   "metadata": {},
   "source": [
    "### Request 10: Saving the CSV"
   ]
  },
  {
   "cell_type": "code",
   "execution_count": 23,
   "id": "filled-indian",
   "metadata": {},
   "outputs": [],
   "source": [
    "bears_df.to_csv(\"bears_mass_cytb.csv\")"
   ]
  },
  {
   "cell_type": "markdown",
   "id": "painted-syria",
   "metadata": {},
   "source": [
    "### Request 11: Personal \n",
    "I know it's not too original, but I'm going to do another scatterplot, but with mass by GC_content"
   ]
  },
  {
   "cell_type": "code",
   "execution_count": 27,
   "id": "personal-michigan",
   "metadata": {},
   "outputs": [
    {
     "data": {
      "text/html": [
       "<div>\n",
       "<style scoped>\n",
       "    .dataframe tbody tr th:only-of-type {\n",
       "        vertical-align: middle;\n",
       "    }\n",
       "\n",
       "    .dataframe tbody tr th {\n",
       "        vertical-align: top;\n",
       "    }\n",
       "\n",
       "    .dataframe thead th {\n",
       "        text-align: right;\n",
       "    }\n",
       "</style>\n",
       "<table border=\"1\" class=\"dataframe\">\n",
       "  <thead>\n",
       "    <tr style=\"text-align: right;\">\n",
       "      <th></th>\n",
       "      <th>species</th>\n",
       "      <th>mass</th>\n",
       "      <th>molecular_weight</th>\n",
       "      <th>GC_content</th>\n",
       "      <th>genus</th>\n",
       "      <th>spec.</th>\n",
       "    </tr>\n",
       "  </thead>\n",
       "  <tbody>\n",
       "    <tr>\n",
       "      <th>0</th>\n",
       "      <td>Ursus spelaeus</td>\n",
       "      <td>550.800</td>\n",
       "      <td>98920.6083</td>\n",
       "      <td>43.771930</td>\n",
       "      <td>Ursus</td>\n",
       "      <td>spelaeus</td>\n",
       "    </tr>\n",
       "    <tr>\n",
       "      <th>1</th>\n",
       "      <td>Ursus arctos</td>\n",
       "      <td>203.500</td>\n",
       "      <td>98902.4375</td>\n",
       "      <td>43.771930</td>\n",
       "      <td>Ursus</td>\n",
       "      <td>arctos</td>\n",
       "    </tr>\n",
       "    <tr>\n",
       "      <th>2</th>\n",
       "      <td>Ursus thibetanus</td>\n",
       "      <td>99.714</td>\n",
       "      <td>98850.9681</td>\n",
       "      <td>45.614035</td>\n",
       "      <td>Ursus</td>\n",
       "      <td>thibetanus</td>\n",
       "    </tr>\n",
       "    <tr>\n",
       "      <th>3</th>\n",
       "      <td>Melursus ursinus</td>\n",
       "      <td>100.030</td>\n",
       "      <td>98780.7211</td>\n",
       "      <td>45.175439</td>\n",
       "      <td>Melursus</td>\n",
       "      <td>ursinus</td>\n",
       "    </tr>\n",
       "    <tr>\n",
       "      <th>4</th>\n",
       "      <td>Ursus americanus</td>\n",
       "      <td>110.560</td>\n",
       "      <td>98906.5155</td>\n",
       "      <td>43.947368</td>\n",
       "      <td>Ursus</td>\n",
       "      <td>americanus</td>\n",
       "    </tr>\n",
       "    <tr>\n",
       "      <th>5</th>\n",
       "      <td>Helarctos malayanus</td>\n",
       "      <td>47.020</td>\n",
       "      <td>98868.5799</td>\n",
       "      <td>44.298246</td>\n",
       "      <td>Helarctos</td>\n",
       "      <td>malayanus</td>\n",
       "    </tr>\n",
       "    <tr>\n",
       "      <th>6</th>\n",
       "      <td>Ailuropoda melanoleuca</td>\n",
       "      <td>118.200</td>\n",
       "      <td>98710.9023</td>\n",
       "      <td>40.789474</td>\n",
       "      <td>Ailuropoda</td>\n",
       "      <td>melanoleuca</td>\n",
       "    </tr>\n",
       "    <tr>\n",
       "      <th>7</th>\n",
       "      <td>Tremarctos ornatus</td>\n",
       "      <td>140.700</td>\n",
       "      <td>98649.9109</td>\n",
       "      <td>44.385965</td>\n",
       "      <td>Tremarctos</td>\n",
       "      <td>ornatus</td>\n",
       "    </tr>\n",
       "    <tr>\n",
       "      <th>8</th>\n",
       "      <td>Ursus maritimus</td>\n",
       "      <td>425.100</td>\n",
       "      <td>98804.3175</td>\n",
       "      <td>44.298246</td>\n",
       "      <td>Ursus</td>\n",
       "      <td>maritimus</td>\n",
       "    </tr>\n",
       "  </tbody>\n",
       "</table>\n",
       "</div>"
      ],
      "text/plain": [
       "                  species     mass  molecular_weight  GC_content       genus  \\\n",
       "0          Ursus spelaeus  550.800        98920.6083   43.771930       Ursus   \n",
       "1            Ursus arctos  203.500        98902.4375   43.771930       Ursus   \n",
       "2        Ursus thibetanus   99.714        98850.9681   45.614035       Ursus   \n",
       "3        Melursus ursinus  100.030        98780.7211   45.175439    Melursus   \n",
       "4        Ursus americanus  110.560        98906.5155   43.947368       Ursus   \n",
       "5     Helarctos malayanus   47.020        98868.5799   44.298246   Helarctos   \n",
       "6  Ailuropoda melanoleuca  118.200        98710.9023   40.789474  Ailuropoda   \n",
       "7      Tremarctos ornatus  140.700        98649.9109   44.385965  Tremarctos   \n",
       "8         Ursus maritimus  425.100        98804.3175   44.298246       Ursus   \n",
       "\n",
       "         spec.  \n",
       "0     spelaeus  \n",
       "1       arctos  \n",
       "2   thibetanus  \n",
       "3      ursinus  \n",
       "4   americanus  \n",
       "5    malayanus  \n",
       "6  melanoleuca  \n",
       "7      ornatus  \n",
       "8    maritimus  "
      ]
     },
     "execution_count": 27,
     "metadata": {},
     "output_type": "execute_result"
    }
   ],
   "source": [
    "bears_df[['genus','spec.']] = bears_df.species.str.split(expand=True) \n",
    "bears_df"
   ]
  },
  {
   "cell_type": "code",
   "execution_count": 29,
   "id": "passive-mention",
   "metadata": {},
   "outputs": [
    {
     "data": {
      "text/plain": [
       "<AxesSubplot:xlabel='mass', ylabel='GC_content'>"
      ]
     },
     "execution_count": 29,
     "metadata": {},
     "output_type": "execute_result"
    },
    {
     "data": {
      "image/png": "[encoded data removed]",
      "text/plain": [
       "<Figure size 432x288 with 1 Axes>"
      ]
     },
     "metadata": {
      "needs_background": "light"
     },
     "output_type": "display_data"
    }
   ],
   "source": [
    "sns.scatterplot(data = bears_df, x = \"mass\", y = \"GC_content\", hue = \"genus\",\n",
    "               palette = \"rocket\")"
   ]
  },
  {
   "cell_type": "markdown",
   "id": "departmental-palestine",
   "metadata": {},
   "source": [
    "As you can see in the image above, it's not that informative. Oh well, the plot was at least fun making!"
   ]
  }
 ],
 "metadata": {
  "kernelspec": {
   "display_name": "Python 3",
   "language": "python",
   "name": "python3"
  },
  "language_info": {
   "codemirror_mode": {
    "name": "ipython",
    "version": 3
   },
   "file_extension": ".py",
   "mimetype": "text/x-python",
   "name": "python",
   "nbconvert_exporter": "python",
   "pygments_lexer": "ipython3",
   "version": "3.7.10"
  }
 },
 "nbformat": 4,
 "nbformat_minor": 5
}
